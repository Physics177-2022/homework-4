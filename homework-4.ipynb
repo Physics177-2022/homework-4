{
 "cells": [
  {
   "cell_type": "markdown",
   "metadata": {},
   "source": [
    "# Homework 4: Different methods for integrating ODEs\n",
    " **Due Friday, April 29**  \n",
    " \n",
    "*Enter your name here*\n",
    "\n",
    "### Homework checklist\n",
    "\n",
    "Before submitting, make sure that you\n",
    "\n",
    "- Fill in your name in the space above\n",
    "- Cite any resources that you used while working on this homework\n",
    "- 1. Fill in the code cells to integrate the differential equations and plot the results  \n",
    "- 2. Plot the trajectory of the pendulum in phase space  \n",
    "- 3. Plot energy as a function of time and answer, how does the result you find compare with your expectations?  \n",
    "- 4.a. Fill in the code cells to implement the leapfrog algorithm and plot the results  \n",
    "- 4.b. Compare your results with the Runge-Kutta method -- which one would you use for this problem?  \n",
    "\n",
    "**Note: Some of the results in this homework might depend on the system that you use. When interpreting the output of each method of integration, just describe what you see. In some cases one algorithm may perform better than another contrary to our expectations.**"
   ]
  },
  {
   "cell_type": "markdown",
   "metadata": {},
   "source": [
    "## Discussion\n",
    "\n",
    "The equations of motion for the simple, non-linear pendulum are:  \n",
    "\n",
    "$$\n",
    "\\begin{align}\\begin{aligned}\n",
    "\\dot{\\theta} &= \\omega \\,,\\\\ \n",
    "\\dot{\\omega} &= -\\frac{g}{\\ell}\\sin\\theta\\,.\n",
    "\\end{aligned}\\end{align}\n",
    "$$  \n",
    "\n",
    "Let's write these as  \n",
    "\n",
    "\n",
    "$$\n",
    "\\begin{align}\\begin{aligned}\n",
    "\\dot{\\theta} &= f(\\theta,\\omega,t) \\,,\\\\ \n",
    "\\dot{\\omega} &= h(\\theta,\\omega,t) \\,.\n",
    "\\end{aligned}\\end{align}\n",
    "$$\n",
    "\n",
    "The pendulum has length $\\ell$, angle $\\theta$ with respect to the vertical, angular velocity $\\omega$, and gravitational acceleration at sea level is $g = 9.8$ m/s$^2$.\n",
    "\n",
    "**Reminder**: Recall that the second order Runge-Kutta algorithm for solving $\\dot x = f(x,t)$ is to loop the following sequence of steps:  \n",
    "`k1 = dt*f(x,t)`  \n",
    "`k2 = dt*f(x + 0.5*k1, t + 0.5*dt)`  \n",
    "`x += k2`"
   ]
  },
  {
   "cell_type": "markdown",
   "metadata": {},
   "source": [
    "## 1. Runge-Kutta for the simple pendulum\n",
    "\n",
    "Fill in the code below for a function `time_and_angles(ell, theta_0)` that outputs three `numpy` arrays:  \n",
    "1. an array of time points\n",
    "2. an array of associated $\\theta$ values\n",
    "3. an array of associated $\\omega$ values\n",
    "\n",
    "In other words, the outputs of `time_and_angles(ell, theta_0)` are the required inputs for matplotlib/seaborn to plot the trajectory. Use the Runge-Kutta algorithm to integrate the differential equations. We'll use units such that `g = 9.8`.\n",
    "\n",
    "We can treat this simple pendulum involving a *second order* differential equation in $\\theta$ as a system of two *first order* differential equations: one for $\\theta$ (dependent on the angular velocity $\\omega$), and one for the angular velocity $\\omega$ (which also depends on $\\theta$)."
   ]
  },
  {
   "cell_type": "code",
   "execution_count": null,
   "metadata": {},
   "outputs": [],
   "source": [
    "import numpy as np\n",
    "import seaborn as sns\n",
    "import matplotlib.pyplot as plt\n",
    "\n",
    "# CONSTANTS\n",
    "g = 9.8\n",
    "\n",
    "# PARAMETERS\n",
    "ell = 1.0      # length of pendulum arm\n",
    "theta_0 = 0.1  # initial displacement in radians\n",
    "omega_0 = 0.0  # initial angular velocity\n",
    "dt = 0.01      # time sampling spacing\n",
    "t_final = 10.0 # total number of seconds \n",
    "\n",
    "def f(theta, omega, t):\n",
    "    \"\"\"d(theta)/dt\"\"\"\n",
    "    return # FILL THIS IN\n",
    "    \n",
    "def h(theta, omega, t):\n",
    "    \"\"\"d(omega)/dt\"\"\"\n",
    "    return # FILL THIS IN\n",
    "\n",
    "# TIME POINTS (depends on dt and t_final)\n",
    "tpoints = # FILL THIS IN (e.g. use np.arange)\n",
    "\n",
    "def time_and_angles():\n",
    "    \"\"\"\n",
    "    Returns three numpy arrays: \n",
    "    1. a list of time samples \n",
    "    2. a list of theta values\n",
    "    3. a list of omega values\n",
    "    No arguments (these are all assumed to be global variables)\n",
    "    \"\"\"\n",
    "    \n",
    "    theta_points = []\n",
    "    omega_points = []\n",
    "    \n",
    "    # Initialize theta, omega\n",
    "    theta = theta_0\n",
    "    omega = omega_0\n",
    "    \n",
    "    for t in tpoints:\n",
    "        \n",
    "        # Append theta, omega into theta_points and omega_points\n",
    "        # FILL THIS IN\n",
    "            \n",
    "        # Time step using Runge-Kutta\n",
    "        # FILL THIS IN, update theta and omega using RK2\n",
    "    \n",
    "    return np.array(tpoints), np.array(theta_points), np.array(omega_points)"
   ]
  },
  {
   "cell_type": "code",
   "execution_count": null,
   "metadata": {},
   "outputs": [],
   "source": [
    "# Test the above code:\n",
    "times, thetas, omegas = time_and_angles()\n",
    "\n",
    "sns.lineplot(times, thetas, label='$\\Theta$ (rad)')\n",
    "sns.lineplot(times, omegas, label='$\\omega$ (rad/s)')\n",
    "plt.title(\"Simple Pendulum\")\n",
    "plt.xlabel('time')\n",
    "plt.ylabel('angle')\n",
    "plt.show()"
   ]
  },
  {
   "cell_type": "markdown",
   "metadata": {},
   "source": [
    "Your code above should produce something like the following:\n",
    "\n",
    "<img src=\"pendulum.png\" width=500>\n",
    "\n",
    "*Note*: You may also get something that doesn't look quite so periodic. If you're unsure, try working through the rest of the homework before returning to this plot.\n",
    "\n",
    "*Hint*: If you're getting some \"wiggles\" in the lines, this might be because you're not simultaneously updating $\\theta$ and $\\omega$. In other words, you may be updating $\\theta(t)$ to $\\theta(t+\\Delta t)$, then using $\\theta(t+\\Delta t)$ to update $\\omega(t)$. That won't give the correct result!"
   ]
  },
  {
   "cell_type": "markdown",
   "metadata": {},
   "source": [
    "## 2. Plotting the phase space trajectory\n",
    "\n",
    "Using your code (or rewriting it if necessary) from Problem 1, plot the **phase space trajectory** of the simple pendulum over the range 0 to 10 seconds with the initial conditions above. A phase space diagram has $\\theta$ on the horizontal axis and (angular) momentum on the vertical axis. You may assume that the pendulum weight has unit mass. \n",
    "\n",
    "Does the trajectory look periodic?"
   ]
  },
  {
   "cell_type": "code",
   "execution_count": null,
   "metadata": {},
   "outputs": [],
   "source": [
    "# Test the above code:\n",
    "sns.lineplot(\n",
    "    # FILL THIS IN\n",
    "    , sort=False)\n",
    "plt.title(\"Simple Pendulum: Phase Space\")\n",
    "plt.xlabel(r'$\\theta$')\n",
    "plt.ylabel(r'$\\omega$')\n",
    "plt.show()"
   ]
  },
  {
   "cell_type": "markdown",
   "metadata": {},
   "source": [
    "## 3. Plot of energy over time\n",
    "\n",
    "The energy of the simple pendulum is  \n",
    "\n",
    "$$ \n",
    "E = \\frac{1}{2} m \\ell^2 \\omega^2 + m g \\ell \\left(1-\\cos\\theta\\right)\n",
    "$$\n",
    "\n",
    "**Hint:** Numpy arrays are \"built\" for being manipulated as mathematical objects. Thus it may be useful to observe the following operations:"
   ]
  },
  {
   "cell_type": "code",
   "execution_count": null,
   "metadata": {},
   "outputs": [],
   "source": [
    "test_numpy_array=np.array([3.14,1.55])\n",
    "\n",
    "print(np.cos(test_numpy_array))\n",
    "print(test_numpy_array**2)"
   ]
  },
  {
   "cell_type": "markdown",
   "metadata": {},
   "source": [
    "Using the outputs of your code from Problem 1, create a numpy array of energy at each time step and plot energy as a function of time. \n",
    "\n",
    "What's happening to the energy as a function of time? Based on purely physical principles, what did you *expect* the plot of energy versus time to look like? Fill in your answer in the Markdown cell below."
   ]
  },
  {
   "cell_type": "code",
   "execution_count": null,
   "metadata": {},
   "outputs": [],
   "source": [
    "m = 1.0\n",
    "\n",
    "# You may want to define a function to evaluate the energy for\n",
    "# a given value of theta and omega\n",
    "def energy(theta, omega):\n",
    "    return # FILL THIS IN\n",
    "\n",
    "energies = # FILL THIS IN using the omegas and thetas arrays\n",
    "\n",
    "sns.lineplot(times, energies)\n",
    "plt.title(\"Simple Pendulum: Energy\")\n",
    "plt.xlabel('time')\n",
    "plt.ylabel('energy')\n",
    "plt.show()"
   ]
  },
  {
   "cell_type": "markdown",
   "metadata": {},
   "source": [
    "**ANSWER HERE**: What is happening to energy as a function of time in our system, and how does this compare to your physical expectations?"
   ]
  },
  {
   "cell_type": "markdown",
   "metadata": {},
   "source": [
    "## 4. Leapfrog method\n",
    "\n",
    "The [leapfrog algorithm](https://en.wikipedia.org/wiki/Leapfrog_integration) works in the following way. First, the function value(s) half a time step away are determined by Euler's method\n",
    "\n",
    "$$\n",
    "x\\left(t + \\frac{\\Delta t}{2}\\right) = x(t) + \\frac{\\Delta t}{2} f(x(t), t)\\,.\n",
    "$$\n",
    "\n",
    "Then, the function values are iteratively updated for whole time steps\n",
    "\n",
    "$$\n",
    "\\begin{align} \\begin{aligned}\n",
    "x(t+\\Delta t)            &= x(t) + \\Delta t\\; f\\left(x\\left(t+\\frac{\\Delta t}{2}\\right), t + \\frac{\\Delta t}{2} \\right)\\,,\\\\\n",
    "x\\left(t+\\frac{3\\Delta t}{2}\\right) &= x\\left(t+\\frac{\\Delta t}{2}\\right) + \\Delta t\\; f\\left(x\\left(t+\\Delta t\\right), t + \\Delta t \\right)\\,.\n",
    "\\end{aligned} \\end{align}\n",
    "$$  \n",
    "\n",
    "### 4.a. Coding the leapfrog algorithm\n",
    "\n",
    "Fill in the code below and reproduce the plots in Problems 1, 2, and 3 using the leapfrog algorithm to integrate the simple, non-linear pendulum ODE."
   ]
  },
  {
   "cell_type": "code",
   "execution_count": null,
   "metadata": {},
   "outputs": [],
   "source": [
    "def time_and_angles_leapfrog():\n",
    "    \"\"\"\n",
    "    Returns three numpy arrays: \n",
    "    1. a list of time samples \n",
    "    2. a list of theta values\n",
    "    3. a list of omega values\n",
    "    No arguments (these are all assumed to be global variables)\n",
    "    Uses leapfrog algorithm\n",
    "    \"\"\"\n",
    "    \n",
    "    theta_points = []\n",
    "    omega_points = []\n",
    "    \n",
    "    # Initialize theta, omega\n",
    "    theta = theta_0\n",
    "    omega = omega_0\n",
    "    theta_half = theta + 0.5*dt*f(theta, omega, 0)\n",
    "    omega_half = omega + 0.5*dt*h(theta, omega, 0)\n",
    "    \n",
    "    for t in tpoints:\n",
    "        # Append theta, omega to theta_points and omega_points\n",
    "        # FILL THIS IN\n",
    "            \n",
    "        # Time step using Leap-Frog \n",
    "        theta += # FILL THIS IN\n",
    "        omega += # FILL THIS IN\n",
    "        \n",
    "        theta_half += dt*f(theta, omega, t + dt)\n",
    "        omega_half += dt*h(theta, omega, t + dt)\n",
    "        # NOTE: these depend on theta[i+1] and omega[i+1]\n",
    "\n",
    "    return np.array(tpoints), np.array(theta_points), np.array(omega_points)"
   ]
  },
  {
   "cell_type": "code",
   "execution_count": null,
   "metadata": {},
   "outputs": [],
   "source": [
    "# Compare to the RK results: theta\n",
    "times, thetas_lf, omegas_lf = time_and_angles_leapfrog()\n",
    "\n",
    "sns.lineplot(times, thetas, label='RK')\n",
    "sns.lineplot(times, thetas_lf, label='LF')\n",
    "plt.title(\"Simple Pendulum: RK vs LF\")\n",
    "plt.xlabel('time')\n",
    "plt.ylabel('angle')\n",
    "plt.legend()\n",
    "plt.show()"
   ]
  },
  {
   "cell_type": "code",
   "execution_count": null,
   "metadata": {},
   "outputs": [],
   "source": [
    "# Compare to the RK results: phase space\n",
    "\n",
    "sns.lineplot(thetas, omegas, label='RK', sort=False)\n",
    "sns.lineplot(thetas_lf, omegas_lf, label='LF', sort=False)\n",
    "plt.title(\"Simple Pendulum: Phase Space\")\n",
    "plt.xlabel('angle')\n",
    "plt.ylabel('momentum')\n",
    "plt.legend()\n",
    "plt.show()"
   ]
  },
  {
   "cell_type": "code",
   "execution_count": null,
   "metadata": {},
   "outputs": [],
   "source": [
    "# Compare to the RK results: energy\n",
    "\n",
    "m = 1.0\n",
    "\n",
    "energies_lf = # FILL THIS IN, leap frog energy array in time\n",
    "\n",
    "sns.lineplot(times, energies, label='RK')\n",
    "sns.lineplot(times, energies_lf, label='LF')\n",
    "plt.title(\"Simpleb Pendulum: Energy, RK vs LF\")\n",
    "plt.xlabel('time')\n",
    "plt.ylabel('energy')\n",
    "plt.show()"
   ]
  },
  {
   "cell_type": "markdown",
   "metadata": {},
   "source": [
    "### 4.b. Assessing the results\n",
    "\n",
    "How does your plot of time versus energy compare between the Runge-Kutta and leapfrog algorithms? In this case, which algorithm would you probably want to use if you wanted to integrate this equation for a long time? To make the difference a little more clear, you might consider integrating up to a later time by setting `t_final = 20.` or higher. Explain your reasoning in the Markdown cell below."
   ]
  },
  {
   "cell_type": "markdown",
   "metadata": {},
   "source": [
    "**FILL THIS IN**: For the system above, which algorithm would you use, and why?"
   ]
  },
  {
   "cell_type": "markdown",
   "metadata": {},
   "source": [
    "It's important to keep in mind that the results we've observed are actually **parameter-dependent**. Consider rerunning the code you've written above, but set `theta_0 = 2.0` in the first code cell. Now the performance is different. This emphasizes an important point: with computational work, we should always examine the output of our code carefully, beyond the direct question we want to answer."
   ]
  }
 ],
 "metadata": {
  "kernelspec": {
   "display_name": "Python 3 (ipykernel)",
   "language": "python",
   "name": "python3"
  },
  "language_info": {
   "codemirror_mode": {
    "name": "ipython",
    "version": 3
   },
   "file_extension": ".py",
   "mimetype": "text/x-python",
   "name": "python",
   "nbconvert_exporter": "python",
   "pygments_lexer": "ipython3",
   "version": "3.9.12"
  }
 },
 "nbformat": 4,
 "nbformat_minor": 2
}
